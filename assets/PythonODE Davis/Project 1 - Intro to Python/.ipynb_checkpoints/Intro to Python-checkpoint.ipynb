{
 "cells": [
  {
   "cell_type": "code",
   "execution_count": null,
   "metadata": {
    "collapsed": true
   },
   "outputs": [],
   "source": [
    "########################################\n",
    "########## INTRO TO PYTHON    ##########\n",
    "########## By Patrick Davis   ##########\n",
    "########## September 2015     ##########\n",
    "########################################"
   ]
  },
  {
   "cell_type": "code",
   "execution_count": null,
   "metadata": {
    "collapsed": false
   },
   "outputs": [],
   "source": [
    "# Python ignores any text that follows a # on the same line; so we can use this for comments"
   ]
  },
  {
   "cell_type": "code",
   "execution_count": null,
   "metadata": {
    "collapsed": false
   },
   "outputs": [],
   "source": [
    "# Let's start with some IPython/Jupyter basics\n",
    "# IPython adopts its layout from Mathematica\n",
    "# An IPython file is called a notebook (with extension .ipynb)\n",
    "# Notebooks are composed of cells, which are essentially groups of code"
   ]
  },
  {
   "cell_type": "code",
   "execution_count": null,
   "metadata": {
    "collapsed": false
   },
   "outputs": [],
   "source": [
    "# To run all of the code in a cell, click anywhere in the cell and press SHIFT + ENTER\n",
    "# Try running the contents of this cell\n",
    "2 + 3"
   ]
  },
  {
   "cell_type": "code",
   "execution_count": null,
   "metadata": {
    "collapsed": true
   },
   "outputs": [],
   "source": [
    "# Note on the left side of the cell, a number appeared in the In[] brackets\n",
    "# That number indicates the order in which the cell was run\n",
    "# Further, IPython generated output in a matching Out[] section"
   ]
  },
  {
   "cell_type": "code",
   "execution_count": null,
   "metadata": {
    "collapsed": false
   },
   "outputs": [],
   "source": [
    "# By default, IPython will only display the output from the last calculation\n",
    "# For example, try running this cell\n",
    "300 - 1\n",
    "55 + 2"
   ]
  },
  {
   "cell_type": "code",
   "execution_count": null,
   "metadata": {
    "collapsed": false
   },
   "outputs": [],
   "source": [
    "# Note how only the second operation shows up in the output\n",
    "# If you want to ensure something gets output to the screen, you can use the print() command\n",
    "# For example, try running this cell\n",
    "print(300-1)\n",
    "55 + 2"
   ]
  },
  {
   "cell_type": "code",
   "execution_count": null,
   "metadata": {
    "collapsed": true
   },
   "outputs": [],
   "source": [
    "# You can also supress output using a semicolon\n",
    "# For example, try running this cell\n",
    "300 - 1\n",
    "55 + 2;"
   ]
  },
  {
   "cell_type": "code",
   "execution_count": null,
   "metadata": {
    "collapsed": false,
    "scrolled": false
   },
   "outputs": [],
   "source": [
    "# Now let's move onto some Python basics\n",
    "# Addition, Subtraction, Multiplication, and Division all work as expected in Python\n",
    "# Try running each of these commands and note the output\n",
    "2 + 100\n",
    "3 - 9\n",
    "4*2\n",
    "4/2"
   ]
  },
  {
   "cell_type": "code",
   "execution_count": null,
   "metadata": {
    "collapsed": false
   },
   "outputs": [],
   "source": [
    "# In order to do Exponents, we can use **\n",
    "# Run each of the following commands and note the output\n",
    "2**4\n",
    "-2**4\n",
    "(-2)**3\n",
    "8**(1/3)\n",
    "5**(-2)"
   ]
  },
  {
   "cell_type": "code",
   "execution_count": null,
   "metadata": {
    "collapsed": true
   },
   "outputs": [],
   "source": [
    "# In order to define variables in Python, we can use the = operator\n",
    "a = 0.31\n",
    "beta = 2\n",
    "gamma1 = -9"
   ]
  },
  {
   "cell_type": "code",
   "execution_count": null,
   "metadata": {
    "collapsed": false
   },
   "outputs": [],
   "source": [
    "# Then we can use these in calculations\n",
    "a*gamma1\n",
    "gamma1**2\n",
    "a/2"
   ]
  },
  {
   "cell_type": "code",
   "execution_count": null,
   "metadata": {
    "collapsed": false,
    "scrolled": false
   },
   "outputs": [],
   "source": [
    "# Basic Python does not contain all of the things you might want.\n",
    "# For instance, try calling in a well-known function\n",
    "sin(0)"
   ]
  },
  {
   "cell_type": "code",
   "execution_count": null,
   "metadata": {
    "collapsed": false
   },
   "outputs": [],
   "source": [
    "# This is where packages come in.  Many \"math\" functions can be found in NumPy\n",
    "# In order to use NumPy we can call\n",
    "import numpy\n",
    "\n",
    "# Then we can use the command\n",
    "numpy.sin(0)"
   ]
  },
  {
   "cell_type": "code",
   "execution_count": null,
   "metadata": {
    "collapsed": false
   },
   "outputs": [],
   "source": [
    "# However it gets frustrating to constantly write numpy before using commands from it\n",
    "# So we have the option to rename numpy in our current notebook\n",
    "import numpy as np\n",
    "\n",
    "# Then we can use the command\n",
    "np.sin(0)"
   ]
  },
  {
   "cell_type": "code",
   "execution_count": null,
   "metadata": {
    "collapsed": true
   },
   "outputs": [],
   "source": [
    "# We can also use the command\n",
    "# import numpy as *\n",
    "# To do away with this naming convention all together and allow us to use\n",
    "# sin(0)\n",
    "# To calculuate the sine function at zero\n",
    "# However this is considered bad form because it overwrites any standard Python commands with the same name"
   ]
  },
  {
   "cell_type": "code",
   "execution_count": null,
   "metadata": {
    "collapsed": true
   },
   "outputs": [],
   "source": [
    "# We can also define our own functions\n",
    "# The general syntax of this is\n",
    "# def functionName():\n",
    "#     commands to execute\n",
    "#     commands to execute"
   ]
  },
  {
   "cell_type": "code",
   "execution_count": null,
   "metadata": {
    "collapsed": true
   },
   "outputs": [],
   "source": [
    "# In a function, the blank space proceeding the commands to execute is important\n",
    "# Any code that returns flush to the left will end the function"
   ]
  },
  {
   "cell_type": "code",
   "execution_count": null,
   "metadata": {
    "collapsed": false
   },
   "outputs": [],
   "source": [
    "# Let's define a function that prints out Alan Turing's famous poem.\n",
    "\n",
    "def turingPoem():\n",
    "    print('Hyperboloids of wondrous Light') # Single quotes indicate a string (i.e. text)\n",
    "    print('Rolling for aye through Space and Time')\n",
    "    print('Harbour there Waves which somehow Might')\n",
    "    print('Play out God\\'s holy pantomime.') # \\' tells Python we want an apostrophe, rather than to end the string\n",
    "    print('\\t\\t- Alan Turing (1954)') # \\t tells Python we want a horizontal tab"
   ]
  },
  {
   "cell_type": "code",
   "execution_count": null,
   "metadata": {
    "collapsed": false
   },
   "outputs": [],
   "source": [
    "# Then we can call this poem function as such\n",
    "turingPoem()"
   ]
  },
  {
   "cell_type": "code",
   "execution_count": null,
   "metadata": {
    "collapsed": false
   },
   "outputs": [],
   "source": [
    "# We can also use functions to do mathematics\n",
    "# For instance, here's a function that calculates the binomial coefficient (n choose k)\n",
    "import math\n",
    "\n",
    "def choose(n,k):\n",
    "    binomCoeff = math.factorial(n)/(math.factorial(k) * math.factorial(n-k)) # n!/(k!(n-k)!)\n",
    "    binomCoeff = int(binomCoeff) # This forces Python to make this variable an integer\n",
    "    return binomCoeff # Output the value for nChooseK"
   ]
  },
  {
   "cell_type": "code",
   "execution_count": null,
   "metadata": {
    "collapsed": false
   },
   "outputs": [],
   "source": [
    "# And we can use it to calculate 10 choose 6\n",
    "choose(10,6)"
   ]
  },
  {
   "cell_type": "code",
   "execution_count": null,
   "metadata": {
    "collapsed": false
   },
   "outputs": [],
   "source": [
    "# Before we go on, let's talk a bit about the data structures in Python\n",
    "# The default struture of standard Python is the list\n",
    "# Lists are declared using square brackets, with items separated by commas\n",
    "\n",
    "squares = [1, 4, 9, 16, 25]\n",
    "squares # Calling the variable name will show us its contents"
   ]
  },
  {
   "cell_type": "code",
   "execution_count": null,
   "metadata": {
    "collapsed": false
   },
   "outputs": [],
   "source": [
    "# Lists can contain almost anything, including strings\n",
    "pets = ['cats', 'dogs', 'fish', 'rabbits']\n",
    "pets"
   ]
  },
  {
   "cell_type": "code",
   "execution_count": null,
   "metadata": {
    "collapsed": false
   },
   "outputs": [],
   "source": [
    "# You can even make lists of lists\n",
    "[squares, pets]"
   ]
  },
  {
   "cell_type": "code",
   "execution_count": null,
   "metadata": {
    "collapsed": false
   },
   "outputs": [],
   "source": [
    "# The drawback of lists is that they live in the basic Python language - which has limited functionality\n",
    "# Suppose we wanted to take the squareroot of numbers in the squares list\n",
    "# We might try something like\n",
    "squares**(1/2)"
   ]
  },
  {
   "cell_type": "code",
   "execution_count": null,
   "metadata": {
    "collapsed": false
   },
   "outputs": [],
   "source": [
    "# In order to do things like that, we must appeal to the NumPy package\n",
    "# NumPy has \"vectorized\" commands that can easily handle this\n",
    "\n",
    "np.sqrt(squares)"
   ]
  },
  {
   "cell_type": "code",
   "execution_count": null,
   "metadata": {
    "collapsed": true
   },
   "outputs": [],
   "source": [
    "# Note that this command didn't return a list\n",
    "# NumPy's default data structure is called an array\n",
    "# Essentially arrays are better when dealing with computations"
   ]
  },
  {
   "cell_type": "code",
   "execution_count": null,
   "metadata": {
    "collapsed": false
   },
   "outputs": [],
   "source": [
    "# And they let us the more intuitive syntax\n",
    "\n",
    "cubes = np.array([1, 8, 27, 64, 125])\n",
    "cubes**(1/3)"
   ]
  },
  {
   "cell_type": "code",
   "execution_count": null,
   "metadata": {
    "collapsed": false
   },
   "outputs": [],
   "source": [
    "# To access elements in a list/array, we use the object's name together with square brackets\n",
    "# The indexing starts at 0\n",
    "squares[0]"
   ]
  },
  {
   "cell_type": "code",
   "execution_count": null,
   "metadata": {
    "collapsed": false
   },
   "outputs": [],
   "source": [
    "# We can also access portions of the list/array using their indices\n",
    "cubes[2:4]"
   ]
  },
  {
   "cell_type": "code",
   "execution_count": null,
   "metadata": {
    "collapsed": false
   },
   "outputs": [],
   "source": [
    "# And replace portions of a list/array using the indices, too\n",
    "pets[1] = 'dragons'\n",
    "pets"
   ]
  },
  {
   "cell_type": "code",
   "execution_count": null,
   "metadata": {
    "collapsed": true
   },
   "outputs": [],
   "source": [
    "# Now let's talk about some plotting\n",
    "# In order to plot things, its best to use the matplotlib package\n",
    "# pyplot is a module in matplotlib that uses plotting commands similar to MATLAB\n",
    "\n",
    "import matplotlib.pyplot as plt"
   ]
  },
  {
   "cell_type": "code",
   "execution_count": null,
   "metadata": {
    "collapsed": false
   },
   "outputs": [],
   "source": [
    "# As an example, let's plot x^2 from -3 to 3\n",
    "# First, we need to generate a vector of x values\n",
    "# linspace(a,b,num) generates an array of num equally spaced points in the interval [a,b]\n",
    "\n",
    "x = np.linspace(-3, 3, 101)\n",
    "x # So you can see what x looks like"
   ]
  },
  {
   "cell_type": "code",
   "execution_count": null,
   "metadata": {
    "collapsed": false
   },
   "outputs": [],
   "source": [
    "# Then we can generate an array of the y values\n",
    "y = x**2\n",
    "y"
   ]
  },
  {
   "cell_type": "code",
   "execution_count": null,
   "metadata": {
    "collapsed": false
   },
   "outputs": [],
   "source": [
    "# And plot!\n",
    "plt.figure() # This command tells Python we want to draw a new figure\n",
    "plt.plot(x, y)\n",
    "# Displaying graphics is actually quite taxing for computers\n",
    "# So by default, Python won't display the picture until we call\n",
    "plt.show()"
   ]
  },
  {
   "cell_type": "code",
   "execution_count": null,
   "metadata": {
    "collapsed": true
   },
   "outputs": [],
   "source": [
    "# To get rid of the plot, simply close the window (the X)"
   ]
  },
  {
   "cell_type": "code",
   "execution_count": null,
   "metadata": {
    "collapsed": false
   },
   "outputs": [],
   "source": [
    "# Suppose we want to plot multiple things\n",
    "# Then we have a few options\n",
    "# First we can plot them in different figures\n",
    "t = np.linspace(0, 10, 100)\n",
    "\n",
    "plt.figure()\n",
    "plt.plot(t, np.sin(t))\n",
    "plt.title(\"The Sine Function\")\n",
    "\n",
    "plt.figure()\n",
    "plt.plot(t, np.cos(t))\n",
    "plt.title(\"The Cosine Function\")\n",
    "\n",
    "plt.show() # Note that this command brings up both of the figures (they might be stacked on top of each other)"
   ]
  },
  {
   "cell_type": "code",
   "execution_count": null,
   "metadata": {
    "collapsed": false
   },
   "outputs": [],
   "source": [
    "# We can also plot them on the same axes (and be fancy about it)\n",
    "plt.figure()\n",
    "plt.plot(t, np.sin(t), label='sin(t)')\n",
    "plt.plot(t, np.cos(t), label='cos(t)')\n",
    "\n",
    "plt.xlabel('t axis')\n",
    "plt.ylabel('y axis')\n",
    "\n",
    "plt.title(\"Our Favorite Trig Functions\")\n",
    "\n",
    "plt.legend()\n",
    "\n",
    "plt.show()"
   ]
  },
  {
   "cell_type": "code",
   "execution_count": null,
   "metadata": {
    "collapsed": true
   },
   "outputs": [],
   "source": [
    "# You'll note the window that Python pops up is interactive\n",
    "# In particular, it has a few buttons that allow you to change the figure\n",
    "\n",
    "# HOME - returns figure to original view\n",
    "# BACK ARROW - return figure to previous view\n",
    "# FORWARD ARROW - move to next view\n",
    "# + - drag the figure around with the left mouse button, scale axes with the right\n",
    "# MAGNIFYING GLASS - zoom in with the left mouse button, zoom out with the right (click and draw a box)\n",
    "# WEIRD SQUARE - change the spacing in the figure\n",
    "# FLOPPY DISK - save the figure (opens dialogue, choose the file format)\n",
    "# CHECK MARK - allows you to manually change/style the axes and the plots\n",
    "\n",
    "# Because of this, the show() command stops Python from executing more commands until you close the window"
   ]
  },
  {
   "cell_type": "code",
   "execution_count": null,
   "metadata": {
    "collapsed": true
   },
   "outputs": [],
   "source": [
    "# If you're not a fan of the pop up window, matplotlib can also show the figures in the IPython notebook\n",
    "# To set this, use the command\n",
    "%matplotlib inline"
   ]
  },
  {
   "cell_type": "code",
   "execution_count": null,
   "metadata": {
    "collapsed": false
   },
   "outputs": [],
   "source": [
    "# Now graph the sine and cosine plot again with this option enabled\n",
    "\n",
    "plt.figure()\n",
    "plt.plot(t, np.sin(t), label='sin(t)')\n",
    "plt.plot(t, np.cos(t), label='cos(t)')\n",
    "\n",
    "plt.xlabel('t axis')\n",
    "plt.ylabel('y axis')\n",
    "\n",
    "plt.title(\"Our Favorite Trig Functions\")\n",
    "\n",
    "plt.legend()\n",
    "\n",
    "plt.show()"
   ]
  }
 ],
 "metadata": {
  "kernelspec": {
   "display_name": "Python [Root]",
   "language": "python",
   "name": "Python [Root]"
  },
  "language_info": {
   "codemirror_mode": {
    "name": "ipython",
    "version": 3
   },
   "file_extension": ".py",
   "mimetype": "text/x-python",
   "name": "python",
   "nbconvert_exporter": "python",
   "pygments_lexer": "ipython3",
   "version": "3.5.2"
  }
 },
 "nbformat": 4,
 "nbformat_minor": 0
}
